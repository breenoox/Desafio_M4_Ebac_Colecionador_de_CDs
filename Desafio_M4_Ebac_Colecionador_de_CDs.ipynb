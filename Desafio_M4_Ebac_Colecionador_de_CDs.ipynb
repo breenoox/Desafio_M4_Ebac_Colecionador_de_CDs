{
  "nbformat": 4,
  "nbformat_minor": 0,
  "metadata": {
    "colab": {
      "provenance": [],
      "authorship_tag": "ABX9TyO1FZYefcppGs6hySQp39aS",
      "include_colab_link": true
    },
    "kernelspec": {
      "name": "python3",
      "display_name": "Python 3"
    },
    "language_info": {
      "name": "python"
    }
  },
  "cells": [
    {
      "cell_type": "markdown",
      "metadata": {
        "id": "view-in-github",
        "colab_type": "text"
      },
      "source": [
        "<a href=\"https://colab.research.google.com/github/breenoox/Desafio_M4_Ebac_Colecionador_de_CDs/blob/main/Desafio_M4_Ebac_Colecionador_de_CDs.ipynb\" target=\"_parent\"><img src=\"https://colab.research.google.com/assets/colab-badge.svg\" alt=\"Open In Colab\"/></a>"
      ]
    },
    {
      "cell_type": "code",
      "execution_count": 53,
      "metadata": {
        "id": "bvB6Ryrbgg1Q"
      },
      "outputs": [],
      "source": [
        "def compra_de_cds():\n",
        "\n",
        "  try:\n",
        "    numero_cds = int(input(\"Número de CDs: \"))\n",
        "  except ValueError:\n",
        "    print('Tipo de dado inválido. Espera-se um valor inteiro.')\n",
        "\n",
        "  valor_total = []\n",
        "\n",
        "  for cd in range(numero_cds):\n",
        "    try:\n",
        "      preco_cds = float(input(f\"Digite o valor do CD {cd + 1}: \"))\n",
        "    except ValueError:\n",
        "      print('Tipo de dado inválido. Espera-se um valor flutuante.')\n",
        "\n",
        "    valor_total.append(preco_cds)\n",
        "\n",
        "  valor_total_cds = sum(valor_total)\n",
        "\n",
        "  media_cds = valor_total_cds / numero_cds\n",
        "\n",
        "  print('\\n')\n",
        "\n",
        "  return f'O valor total da compra foi de: R${valor_total_cds}. E a média foi de: R${media_cds}.'"
      ]
    },
    {
      "cell_type": "code",
      "source": [
        "compra_de_cds()"
      ],
      "metadata": {
        "id": "NLXp3A7UjSVj",
        "outputId": "d46e03d7-a4aa-46a5-8627-80814f8f122f",
        "colab": {
          "base_uri": "https://localhost:8080/",
          "height": 122
        }
      },
      "execution_count": 54,
      "outputs": [
        {
          "output_type": "stream",
          "name": "stdout",
          "text": [
            "Número de CDs: 2\n",
            "Digite o valor do CD 1: 12\n",
            "Digite o valor do CD 2: 32\n",
            "\n",
            "\n"
          ]
        },
        {
          "output_type": "execute_result",
          "data": {
            "text/plain": [
              "'O valor total da compra foi de: R$44.0. E a média foi de: R$22.0.'"
            ],
            "application/vnd.google.colaboratory.intrinsic+json": {
              "type": "string"
            }
          },
          "metadata": {},
          "execution_count": 54
        }
      ]
    }
  ]
}